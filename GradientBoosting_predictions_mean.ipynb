{
 "cells": [
  {
   "cell_type": "code",
   "execution_count": 1,
   "id": "cc66cd65",
   "metadata": {},
   "outputs": [
    {
     "name": "stdout",
     "output_type": "stream",
     "text": [
      "Class distribution in training data:\n",
      "Y\n",
      "0    199487\n",
      "1       513\n",
      "Name: count, dtype: int64\n"
     ]
    },
    {
     "name": "stderr",
     "output_type": "stream",
     "text": [
      "C:\\Users\\hamad\\Downloads\\anaconda\\Lib\\site-packages\\joblib\\externals\\loky\\backend\\context.py:136: UserWarning: Could not find the number of physical cores for the following reason:\n",
      "[WinError 2] The system cannot find the file specified\n",
      "Returning the number of logical cores instead. You can silence this warning by setting LOKY_MAX_CPU_COUNT to the number of cores you want to use.\n",
      "  warnings.warn(\n",
      "  File \"C:\\Users\\hamad\\Downloads\\anaconda\\Lib\\site-packages\\joblib\\externals\\loky\\backend\\context.py\", line 257, in _count_physical_cores\n",
      "    cpu_info = subprocess.run(\n",
      "               ^^^^^^^^^^^^^^^\n",
      "  File \"C:\\Users\\hamad\\Downloads\\anaconda\\Lib\\subprocess.py\", line 548, in run\n",
      "    with Popen(*popenargs, **kwargs) as process:\n",
      "         ^^^^^^^^^^^^^^^^^^^^^^^^^^^\n",
      "  File \"C:\\Users\\hamad\\Downloads\\anaconda\\Lib\\subprocess.py\", line 1026, in __init__\n",
      "    self._execute_child(args, executable, preexec_fn, close_fds,\n",
      "  File \"C:\\Users\\hamad\\Downloads\\anaconda\\Lib\\subprocess.py\", line 1538, in _execute_child\n",
      "    hp, ht, pid, tid = _winapi.CreateProcess(executable, args,\n",
      "                       ^^^^^^^^^^^^^^^^^^^^^^^^^^^^^^^^^^^^^^^\n"
     ]
    },
    {
     "name": "stdout",
     "output_type": "stream",
     "text": [
      "\n",
      "Class distribution after SMOTE:\n",
      "Y\n",
      "0    199487\n",
      "1    199487\n",
      "Name: count, dtype: int64\n"
     ]
    }
   ],
   "source": [
    "import pandas as pd\n",
    "import numpy as np\n",
    "from sklearn.model_selection import train_test_split\n",
    "from sklearn.impute import SimpleImputer\n",
    "from sklearn.preprocessing import StandardScaler\n",
    "from sklearn.ensemble import GradientBoostingClassifier\n",
    "from sklearn.metrics import roc_auc_score, precision_score, recall_score, f1_score, accuracy_score\n",
    "from imblearn.over_sampling import SMOTE  # Importing SMOTE\n",
    "from scipy.stats import zscore\n",
    "\n",
    "# Load your dataset (update file paths as needed)\n",
    "train_data = pd.read_csv('C:\\\\Users\\\\hamad\\\\Downloads\\\\fda_trainingset.csv')\n",
    "test_data = pd.read_csv('C:\\\\Users\\\\hamad\\\\Downloads\\\\fda_testset.csv')\n",
    "# Separate features and target\n",
    "X_train = train_data.drop(columns=['ID', 'Y'], errors='ignore')  # Update 'Y' to match your target column name\n",
    "y_train = train_data['Y']\n",
    "X_test = test_data.drop(columns=['ID', 'Y'], errors='ignore')\n",
    "y_test = test_data['Y'] if 'Y' in test_data.columns else None\n",
    "\n",
    "# Impute missing values using SimpleImputer with mean strategy\n",
    "imputer = SimpleImputer(strategy='mean')\n",
    "X_train = pd.DataFrame(imputer.fit_transform(X_train), columns=X_train.columns)\n",
    "X_test = pd.DataFrame(imputer.transform(X_test), columns=X_test.columns)\n",
    "\n",
    "# Standardize features\n",
    "scaler = StandardScaler()\n",
    "X_train = pd.DataFrame(scaler.fit_transform(X_train), columns=X_train.columns)\n",
    "X_test = pd.DataFrame(scaler.transform(X_test), columns=X_test.columns)\n",
    "\n",
    "# Check class balance\n",
    "print(\"Class distribution in training data:\")\n",
    "print(y_train.value_counts())\n",
    "\n",
    "# Apply SMOTE for handling class imbalance\n",
    "smote = SMOTE(random_state=42)\n",
    "X_train_resampled, y_train_resampled = smote.fit_resample(X_train, y_train)\n",
    "\n",
    "# Check class balance after applying SMOTE\n",
    "print(\"\\nClass distribution after SMOTE:\")\n",
    "print(pd.Series(y_train_resampled).value_counts())\n",
    "\n",
    "# Split into training and validation sets\n",
    "X_train, X_val, y_train, y_val = train_test_split(X_train_resampled, y_train_resampled, test_size=0.2, random_state=42, stratify=y_train_resampled)\n",
    "\n",
    "# Train Gradient Boosting Classifier\n",
    "gb_clf = GradientBoostingClassifier(n_estimators=200, learning_rate=0.9, random_state=42)\n",
    "gb_clf.fit(X_train, y_train)\n",
    "\n",
    "# Predictions and probabilities\n",
    "y_pred = gb_clf.predict(X_val)\n",
    "y_pred_proba = gb_clf.predict_proba(X_val)[:, 1]\n",
    "\n",
    "# Evaluation Metrics\n",
    "roc_auc = roc_auc_score(y_val, y_pred_proba)\n",
    "precision = precision_score(y_val, y_pred)\n",
    "recall = recall_score(y_val, y_pred)\n",
    "f1 = f1_score(y_val, y_pred)\n",
    "accuracy = accuracy_score(y_val, y_pred)\n",
    "\n"
   ]
  },
  {
   "cell_type": "code",
   "execution_count": 2,
   "id": "ffa052b5",
   "metadata": {},
   "outputs": [
    {
     "name": "stdout",
     "output_type": "stream",
     "text": [
      "\n",
      "Gradient Boosting Evaluation Metrics:\n",
      "ROC AUC: 0.9995\n",
      "Precision: 0.9954\n",
      "Recall: 0.9981\n",
      "F1 Score: 0.9968\n",
      "Accuracy: 0.9968\n"
     ]
    }
   ],
   "source": [
    "# Print Metrics\n",
    "print(\"\\nGradient Boosting Evaluation Metrics:\")\n",
    "print(f\"ROC AUC: {roc_auc:.4f}\")\n",
    "print(f\"Precision: {precision:.4f}\")\n",
    "print(f\"Recall: {recall:.4f}\")\n",
    "print(f\"F1 Score: {f1:.4f}\")\n",
    "print(f\"Accuracy: {accuracy:.4f}\")\n",
    "\n"
   ]
  },
  {
   "cell_type": "code",
   "execution_count": 3,
   "id": "55da023d",
   "metadata": {},
   "outputs": [
    {
     "name": "stdout",
     "output_type": "stream",
     "text": [
      "Submission file 'GradientBoosting_predictions_smote.csv' created successfully.\n"
     ]
    }
   ],
   "source": [
    "# Create predictions for the test set\n",
    "y_test_proba = gb_clf.predict_proba(X_test)[:, 1]  # Predicted probabilities for test set\n",
    "\n",
    "# Create DataFrame for submission\n",
    "submission_df = pd.DataFrame({\n",
    "    'ID': test_data['ID'],  # Assuming 'ID' exists in the test set\n",
    "    'Prediction': y_test_proba\n",
    "})\n",
    "\n",
    "# Save predictions to CSV\n",
    "submission_df.to_csv('GradientBoosting_predictions_smote.csv', index=False)\n",
    "print(\"Submission file 'GradientBoosting_predictions_smote.csv' created successfully.\")\n"
   ]
  }
 ],
 "metadata": {
  "kernelspec": {
   "display_name": "Python 3 (ipykernel)",
   "language": "python",
   "name": "python3"
  },
  "language_info": {
   "codemirror_mode": {
    "name": "ipython",
    "version": 3
   },
   "file_extension": ".py",
   "mimetype": "text/x-python",
   "name": "python",
   "nbconvert_exporter": "python",
   "pygments_lexer": "ipython3",
   "version": "3.12.7"
  }
 },
 "nbformat": 4,
 "nbformat_minor": 5
}
